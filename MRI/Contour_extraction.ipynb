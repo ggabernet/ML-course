{
 "cells": [
  {
   "cell_type": "markdown",
   "metadata": {
    "toc": "true"
   },
   "source": [
    "# Table of Contents\n",
    " <p>"
   ]
  },
  {
   "cell_type": "code",
   "execution_count": 1,
   "metadata": {
    "ExecuteTime": {
     "end_time": "2016-10-16T17:34:35.926953",
     "start_time": "2016-10-16T17:34:34.453895"
    },
    "collapsed": true
   },
   "outputs": [],
   "source": [
    "import nibabel as nib\n",
    "from nibabel import processing as pr\n",
    "import numpy as np\n",
    "from sklearn.cross_validation import train_test_split\n",
    "from feature_extraction import Contours"
   ]
  },
  {
   "cell_type": "code",
   "execution_count": 2,
   "metadata": {
    "ExecuteTime": {
     "end_time": "2016-10-16T17:34:56.361768",
     "start_time": "2016-10-16T17:34:41.003376"
    },
    "collapsed": false
   },
   "outputs": [],
   "source": [
    "Targets = np.genfromtxt(\"data/targets.csv\")\n",
    "\n",
    "X_train = []\n",
    "for i in range(1, 279):\n",
    "    example = nib.load(\"data/set_train/train_\"+str(i)+\".nii\")\n",
    "    image = example.get_data()\n",
    "    I = image[:, :, :, 0]\n",
    "    X_train.append(I)\n",
    "Data = X_train\n",
    "\n",
    "X_train, X_test, y_train, y_test = \\\n",
    "        train_test_split(Data, Targets, test_size=0.33, random_state=42)"
   ]
  },
  {
   "cell_type": "code",
   "execution_count": 3,
   "metadata": {
    "ExecuteTime": {
     "end_time": "2016-10-16T17:34:56.381271",
     "start_time": "2016-10-16T17:34:56.363711"
    },
    "collapsed": false
   },
   "outputs": [
    {
     "data": {
      "text/plain": [
       "(176, 208, 176)"
      ]
     },
     "execution_count": 3,
     "metadata": {},
     "output_type": "execute_result"
    }
   ],
   "source": [
    "X_train[0].shape"
   ]
  },
  {
   "cell_type": "code",
   "execution_count": 4,
   "metadata": {
    "ExecuteTime": {
     "end_time": "2016-10-16T17:36:08.006304",
     "start_time": "2016-10-16T17:34:56.383251"
    },
    "collapsed": false
   },
   "outputs": [
    {
     "data": {
      "text/plain": [
       "<feature_extraction.Contours instance at 0x1042e1320>"
      ]
     },
     "execution_count": 4,
     "metadata": {},
     "output_type": "execute_result"
    }
   ],
   "source": [
    "%matplotlib inline\n",
    "cnt = Contours(800, 100, 10)\n",
    "cnt.calculate_descriptor(X_train)"
   ]
  },
  {
   "cell_type": "code",
   "execution_count": 5,
   "metadata": {
    "ExecuteTime": {
     "end_time": "2016-10-16T17:36:08.015065",
     "start_time": "2016-10-16T17:36:08.008147"
    },
    "collapsed": false
   },
   "outputs": [
    {
     "data": {
      "text/plain": [
       "array([[ 0.,  0.,  1., ...,  0.,  0.,  0.],\n",
       "       [ 0.,  0.,  1., ...,  0.,  0.,  0.],\n",
       "       [ 0.,  0.,  0., ...,  0.,  0.,  0.],\n",
       "       ..., \n",
       "       [ 0.,  0.,  1., ...,  0.,  0.,  0.],\n",
       "       [ 0.,  0.,  0., ...,  0.,  0.,  0.],\n",
       "       [ 0.,  0.,  1., ...,  0.,  0.,  0.]])"
      ]
     },
     "execution_count": 5,
     "metadata": {},
     "output_type": "execute_result"
    }
   ],
   "source": [
    "cnt.descriptor"
   ]
  },
  {
   "cell_type": "code",
   "execution_count": 6,
   "metadata": {
    "ExecuteTime": {
     "end_time": "2016-10-16T17:48:58.966265",
     "start_time": "2016-10-16T17:48:58.948367"
    },
    "collapsed": true
   },
   "outputs": [],
   "source": [
    "np.savetxt(\"contours_desc.csv\", cnt.descriptor, delimiter=',')"
   ]
  },
  {
   "cell_type": "code",
   "execution_count": 14,
   "metadata": {
    "ExecuteTime": {
     "end_time": "2016-10-14T14:54:41.229460",
     "start_time": "2016-10-14T14:54:41.226488"
    },
    "collapsed": false
   },
   "outputs": [],
   "source": [
    "contour_n = cnt.get_contour_number()"
   ]
  },
  {
   "cell_type": "code",
   "execution_count": 15,
   "metadata": {
    "ExecuteTime": {
     "end_time": "2016-10-14T14:54:41.239838",
     "start_time": "2016-10-14T14:54:41.231426"
    },
    "collapsed": false
   },
   "outputs": [],
   "source": [
    "contour_big = cnt.get_biggest_contour_size()"
   ]
  },
  {
   "cell_type": "code",
   "execution_count": 19,
   "metadata": {
    "ExecuteTime": {
     "end_time": "2016-10-14T14:59:47.757531",
     "start_time": "2016-10-14T14:59:47.751043"
    },
    "collapsed": false
   },
   "outputs": [
    {
     "data": {
      "text/plain": [
       "array([[ 149.03846154,  115.        ],\n",
       "       [ 149.3964497 ,  114.        ],\n",
       "       [ 149.66091954,  113.        ],\n",
       "       ..., \n",
       "       [ 148.        ,  115.15350877],\n",
       "       [ 149.        ,  115.02659574],\n",
       "       [ 149.03846154,  115.        ]])"
      ]
     },
     "execution_count": 19,
     "metadata": {},
     "output_type": "execute_result"
    }
   ],
   "source": [
    "c = contours[0][0]\n",
    "c"
   ]
  },
  {
   "cell_type": "code",
   "execution_count": null,
   "metadata": {
    "collapsed": true
   },
   "outputs": [],
   "source": []
  }
 ],
 "metadata": {
  "kernelspec": {
   "display_name": "Python 2",
   "language": "python",
   "name": "python2"
  },
  "language_info": {
   "codemirror_mode": {
    "name": "ipython",
    "version": 2
   },
   "file_extension": ".py",
   "mimetype": "text/x-python",
   "name": "python",
   "nbconvert_exporter": "python",
   "pygments_lexer": "ipython2",
   "version": "2.7.11"
  },
  "toc": {
   "toc_cell": true,
   "toc_number_sections": true,
   "toc_threshold": 6,
   "toc_window_display": true
  }
 },
 "nbformat": 4,
 "nbformat_minor": 0
}
